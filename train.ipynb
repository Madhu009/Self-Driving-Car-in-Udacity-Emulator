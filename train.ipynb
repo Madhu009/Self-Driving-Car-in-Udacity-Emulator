{
 "cells": [
  {
   "cell_type": "code",
   "execution_count": 3,
   "metadata": {
    "collapsed": false
   },
   "outputs": [],
   "source": [
    "import pandas as pd\n",
    "import numpy as np \n",
    "from sklearn.model_selection import train_test_split \n",
    "from keras.models import Sequential\n",
    "from keras.optimizers import Adam\n",
    "from keras.callbacks import ModelCheckpoint\n",
    "from keras.layers import Lambda, Conv2D, MaxPooling2D, Dropout, Dense, Flatten\n",
    "from utils import INPUT_SHAPE, batch_generator\n",
    "import argparse\n",
    "import os\n",
    "os.environ['TF_CPP_MIN_LOG_LEVEL']='2'\n",
    "\n",
    "np.random.seed(0)"
   ]
  },
  {
   "cell_type": "code",
   "execution_count": 3,
   "metadata": {
    "collapsed": true
   },
   "outputs": [],
   "source": [
    "#Load training data and split it into training and validation set\n",
    "def load_data(args):\n",
    "   \n",
    "    #reads CSV file into a single dataframe variable\n",
    "    data_df = pd.read_csv('C:/Users/Madhu/Desktop/sdc/driving_log.csv', names=['center', 'left', 'right', 'steering', 'throttle', 'reverse', 'speed'])\n",
    "    \n",
    "    X = data_df[['center', 'left', 'right']].values\n",
    "    y = data_df['steering'].values\n",
    "    X_train, X_valid, y_train, y_valid = train_test_split(X, y, test_size=args.test_size, random_state=0)\n",
    "\n",
    "    return X_train, X_valid, y_train, y_valid"
   ]
  },
  {
   "cell_type": "code",
   "execution_count": 5,
   "metadata": {
    "collapsed": true
   },
   "outputs": [],
   "source": [
    "#NVIDIA paper model used\n",
    "def build_model(args):\n",
    "    \n",
    "    model = Sequential()\n",
    "    model.add(Lambda(lambda x: x/127.5-1.0, input_shape=INPUT_SHAPE))\n",
    "    model.add(Conv2D(24, 5, 5, activation='elu', subsample=(2, 2)))\n",
    "    model.add(Conv2D(36, 5, 5, activation='elu', subsample=(2, 2)))\n",
    "    model.add(Conv2D(48, 5, 5, activation='elu', subsample=(2, 2)))\n",
    "    model.add(Conv2D(64, 3, 3, activation='elu'))\n",
    "    model.add(Conv2D(64, 3, 3, activation='elu'))\n",
    "    model.add(Dropout(args.keep_prob))\n",
    "    model.add(Flatten())\n",
    "    model.add(Dense(100, activation='elu'))\n",
    "    model.add(Dense(50, activation='elu'))\n",
    "    model.add(Dense(10, activation='elu'))\n",
    "    model.add(Dense(1))\n",
    "    model.summary()\n",
    "\n",
    "    return model"
   ]
  },
  {
   "cell_type": "code",
   "execution_count": 6,
   "metadata": {
    "collapsed": true
   },
   "outputs": [],
   "source": [
    "#Training\n",
    "def train_model(model, args, X_train, X_valid, y_train, y_valid):\n",
    " \n",
    "    checkpoint = ModelCheckpoint('model-{epoch:03d}.h5',\n",
    "                                 monitor='val_loss',\n",
    "                                 verbose=0,\n",
    "                                 save_best_only=args.save_best_only,\n",
    "                                 mode='auto')\n",
    "\n",
    "    model.compile(loss='mean_squared_error', optimizer=Adam(lr=args.learning_rate))\n",
    "\n",
    "    model.fit_generator(batch_generator(args.data_dir, X_train, y_train, args.batch_size, True),\n",
    "                        args.samples_per_epoch,\n",
    "                        args.nb_epoch,\n",
    "                        max_q_size=1,\n",
    "                        validation_data=batch_generator(args.data_dir, X_valid, y_valid, args.batch_size, False),\n",
    "                        nb_val_samples=len(X_valid),\n",
    "                        callbacks=[checkpoint],\n",
    "                        verbose=1,pickle_safe=False)\n",
    "    #Evaluate the model\n",
    "    scores=model.evaluate(X,y)\n",
    "    print(\"%s:%.2f%%\" % (model.metrics_names[1],scores[1]*100))"
   ]
  },
  {
   "cell_type": "code",
   "execution_count": 7,
   "metadata": {
    "collapsed": true
   },
   "outputs": [],
   "source": [
    "#for command line args\n",
    "def s2b(s):\n",
    "    \"\"\"\n",
    "    Converts a string to boolean value\n",
    "    \"\"\"\n",
    "    s = s.lower()\n",
    "    return s == 'true' or s == 'yes' or s == 'y' or s == '1'\n",
    "\n"
   ]
  },
  {
   "cell_type": "code",
   "execution_count": null,
   "metadata": {
    "collapsed": true
   },
   "outputs": [],
   "source": [
    "def getparserarguments():\n",
    "    \n",
    "    parser = argparse.ArgumentParser(description='Behavioral Cloning Training Program')\n",
    "    parser.add_argument('-d', help='data directory',        dest='data_dir',          type=str,   default='data')\n",
    "    parser.add_argument('-t', help='test size fraction',    dest='test_size',         type=float, default=0.2)\n",
    "    parser.add_argument('-k', help='drop out probability',  dest='keep_prob',         type=float, default=0.5)\n",
    "    parser.add_argument('-n', help='number of epochs',      dest='nb_epoch',          type=int,   default=10)\n",
    "    parser.add_argument('-s', help='samples per epoch',     dest='samples_per_epoch', type=int,   default=20000)\n",
    "    parser.add_argument('-b', help='batch size',            dest='batch_size',        type=int,   default=40)\n",
    "    parser.add_argument('-o', help='save best models only', dest='save_best_only',    type=s2b,   default='true')\n",
    "    parser.add_argument('-l', help='learning rate',         dest='learning_rate',     type=float, default=1.0e-4)\n",
    "    \n",
    "    return parser"
   ]
  },
  {
   "cell_type": "code",
   "execution_count": null,
   "metadata": {
    "collapsed": true
   },
   "outputs": [],
   "source": [
    "def main():\n",
    "    \"\"\"\n",
    "    Load train/validation data set and train the model\n",
    "    \"\"\"\n",
    "    parser=getparserarguments()\n",
    "    args = parser.parse_args()\n",
    "\n",
    "    #print parameters\n",
    "    print('-' * 30)\n",
    "    print('Parameters')\n",
    "    print('-' * 30)\n",
    "    for key, value in vars(args).items():\n",
    "        print('{:<20} := {}'.format(key, value))\n",
    "    print('-' * 30)\n",
    "\n",
    "    #load data\n",
    "    data = load_data(args)\n",
    "    #build model\n",
    "    model = build_model(args)\n",
    "    #train model on data, it saves as model.h5 \n",
    "    train_model(model, args, *data)\n",
    "\n",
    "\n",
    "if __name__ == '__main__':\n",
    "    main()\n",
    "\n"
   ]
  }
 ],
 "metadata": {
  "kernelspec": {
   "display_name": "Python 3",
   "language": "python",
   "name": "python3"
  },
  "language_info": {
   "codemirror_mode": {
    "name": "ipython",
    "version": 3
   },
   "file_extension": ".py",
   "mimetype": "text/x-python",
   "name": "python",
   "nbconvert_exporter": "python",
   "pygments_lexer": "ipython3",
   "version": "3.6.0"
  }
 },
 "nbformat": 4,
 "nbformat_minor": 2
}
